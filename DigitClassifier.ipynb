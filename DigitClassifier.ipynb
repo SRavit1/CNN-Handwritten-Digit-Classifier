{
  "nbformat": 4,
  "nbformat_minor": 0,
  "metadata": {
    "colab": {
      "name": "DigitClassifier.ipynb",
      "version": "0.3.2",
      "provenance": [],
      "collapsed_sections": []
    },
    "kernelspec": {
      "name": "python3",
      "display_name": "Python 3"
    },
    "accelerator": "GPU"
  },
  "cells": [
    {
      "metadata": {
        "id": "lC4CfjG7T7D8",
        "colab_type": "text"
      },
      "cell_type": "markdown",
      "source": [
        "#Handwritten Digit Classifier\n",
        "\n",
        "Uses Convolutional Neural Network (CNN) implemented in Keras to classify handwritten digits into the 10 categories, using the MNIST database, which contains black and white, 28x28 images of handwritten digits. (27000 training samples, 2998 test samples)\n",
        "\n",
        "The model achieved 98% accuracy within 5 epochs with Adadelta optimizer!\n",
        "\n",
        "1.   Convolution Layer (4x4 kernel size, 32 total filters)\n",
        "\n",
        "2.    Flatten Layer\n",
        "\n",
        "3.    Dense Layer (100 nodes, rectified linear activation)\n",
        "\n",
        "4.    Dense Output Layer (10 nodes, softmax activation)"
      ]
    },
    {
      "metadata": {
        "id": "yDS-6KzRTDQR",
        "colab_type": "code",
        "outputId": "9e477b5e-228e-4527-beb6-aeddfdacf55c",
        "colab": {
          "base_uri": "https://localhost:8080/",
          "height": 34
        }
      },
      "cell_type": "code",
      "source": [
        "from keras.layers import Dense, Conv2D, Flatten\n",
        "from keras.models import Sequential\n",
        "\n",
        "import numpy as np\n",
        "import pandas as pd\n",
        "import matplotlib.pyplot as plt"
      ],
      "execution_count": 1,
      "outputs": [
        {
          "output_type": "stream",
          "text": [
            "Using TensorFlow backend.\n"
          ],
          "name": "stderr"
        }
      ]
    },
    {
      "metadata": {
        "id": "ADr4auSgYNhZ",
        "colab_type": "code",
        "colab": {}
      },
      "cell_type": "code",
      "source": [
        "size = 29998\n",
        "cutoff = 27000"
      ],
      "execution_count": 0,
      "outputs": []
    },
    {
      "metadata": {
        "id": "umssueSJTNZz",
        "colab_type": "code",
        "colab": {}
      },
      "cell_type": "code",
      "source": [
        "#loading the dataset\n",
        "train_dataset = pd.read_csv('sample_data/mnist_train_small.csv')\n",
        "test_dataset = pd.read_csv('sample_data/mnist_test.csv')\n",
        "entire_dataset = np.concatenate((train_dataset, test_dataset), axis=0)"
      ],
      "execution_count": 0,
      "outputs": []
    },
    {
      "metadata": {
        "id": "sqwEnNOEX9VQ",
        "colab_type": "code",
        "colab": {}
      },
      "cell_type": "code",
      "source": [
        "#splitting the dataset between training and testing\n",
        "train_dataset = entire_dataset[:cutoff]\n",
        "test_dataset = entire_dataset[cutoff:]\n",
        "\n",
        "train_y, train_x = np.split (train_dataset, [1], axis=1)\n",
        "test_y, test_x = np.split (test_dataset, [1], axis=1)"
      ],
      "execution_count": 0,
      "outputs": []
    },
    {
      "metadata": {
        "id": "VlmxuumVcvGG",
        "colab_type": "code",
        "colab": {}
      },
      "cell_type": "code",
      "source": [
        "#normalizing the data\n",
        "train_x = train_x.astype(float)\n",
        "test_x = test_x.astype(float)\n",
        "\n",
        "\n",
        "def normalize_data (input_arr):\n",
        "  for index in range(input_arr.shape[0]):\n",
        "    input_arr[index] = input_arr[index]/255\n",
        "for i in range(train_x.shape[0]):\n",
        "  normalize_data(train_x[i])\n",
        "for i in range(test_x.shape[0]):\n",
        "  normalize_data(test_x[i])"
      ],
      "execution_count": 0,
      "outputs": []
    },
    {
      "metadata": {
        "id": "klYWcHbETXHS",
        "colab_type": "code",
        "colab": {}
      },
      "cell_type": "code",
      "source": [
        "#reshaping the x datasets so they look more like images\n",
        "train_x = train_x.reshape((cutoff, 28, 28, 1))\n",
        "test_x = test_x.reshape((size-cutoff, 28, 28, 1))"
      ],
      "execution_count": 0,
      "outputs": []
    },
    {
      "metadata": {
        "id": "21Kc4LC0Y3Mn",
        "colab_type": "code",
        "outputId": "9c70a4d5-954b-4672-9451-0a0792f0eae3",
        "colab": {
          "base_uri": "https://localhost:8080/",
          "height": 286
        }
      },
      "cell_type": "code",
      "source": [
        "#visualizing an image using matplotlib\n",
        "plt.imshow(train_x[0].reshape(28,28))"
      ],
      "execution_count": 7,
      "outputs": [
        {
          "output_type": "execute_result",
          "data": {
            "text/plain": [
              "<matplotlib.image.AxesImage at 0x7f43f7cf4710>"
            ]
          },
          "metadata": {
            "tags": []
          },
          "execution_count": 7
        },
        {
          "output_type": "display_data",
          "data": {
            "image/png": "[encoded data removed]",
            "text/plain": [
              "<Figure size 432x288 with 1 Axes>"
            ]
          },
          "metadata": {
            "tags": []
          }
        }
      ]
    },
    {
      "metadata": {
        "id": "KBT49EduZPmY",
        "colab_type": "code",
        "outputId": "3a416f9d-76f0-4999-b22c-8640df53e35f",
        "colab": {
          "base_uri": "https://localhost:8080/",
          "height": 88
        }
      },
      "cell_type": "code",
      "source": [
        "#making the model\n",
        "model = Sequential()\n",
        "model.add(Conv2D(32, 4))\n",
        "model.add(Flatten())\n",
        "model.add(Dense(100, activation='relu'))\n",
        "model.add(Dense(10, activation='softmax'))\n",
        "\n",
        "model.compile('Adadelta', loss='sparse_categorical_crossentropy', metrics=['accuracy'])"
      ],
      "execution_count": 8,
      "outputs": [
        {
          "output_type": "stream",
          "text": [
            "WARNING:tensorflow:From /usr/local/lib/python3.6/dist-packages/tensorflow/python/framework/op_def_library.py:263: colocate_with (from tensorflow.python.framework.ops) is deprecated and will be removed in a future version.\n",
            "Instructions for updating:\n",
            "Colocations handled automatically by placer.\n"
          ],
          "name": "stdout"
        }
      ]
    },
    {
      "metadata": {
        "id": "xkKc2H1pTYRk",
        "colab_type": "code",
        "outputId": "4a77722b-d8d7-4c79-f94e-d9cc75715d37",
        "colab": {
          "base_uri": "https://localhost:8080/",
          "height": 292
        }
      },
      "cell_type": "code",
      "source": [
        "#training the model\n",
        "model.fit(x=train_x, y=train_y, batch_size=128, epochs=5, validation_data=(test_x, test_y))"
      ],
      "execution_count": 9,
      "outputs": [
        {
          "output_type": "stream",
          "text": [
            "WARNING:tensorflow:From /usr/local/lib/python3.6/dist-packages/tensorflow/python/ops/math_ops.py:3066: to_int32 (from tensorflow.python.ops.math_ops) is deprecated and will be removed in a future version.\n",
            "Instructions for updating:\n",
            "Use tf.cast instead.\n",
            "Train on 27000 samples, validate on 2998 samples\n",
            "Epoch 1/5\n",
            "27000/27000 [==============================] - 8s 295us/step - loss: 0.3612 - acc: 0.8897 - val_loss: 0.1080 - val_acc: 0.9673\n",
            "Epoch 2/5\n",
            "27000/27000 [==============================] - 2s 90us/step - loss: 0.1483 - acc: 0.9564 - val_loss: 0.0840 - val_acc: 0.9767\n",
            "Epoch 3/5\n",
            "27000/27000 [==============================] - 2s 91us/step - loss: 0.1006 - acc: 0.9695 - val_loss: 0.0802 - val_acc: 0.9787\n",
            "Epoch 4/5\n",
            "27000/27000 [==============================] - 2s 89us/step - loss: 0.0705 - acc: 0.9790 - val_loss: 0.0661 - val_acc: 0.9820\n",
            "Epoch 5/5\n",
            "27000/27000 [==============================] - 2s 88us/step - loss: 0.0519 - acc: 0.9844 - val_loss: 0.0658 - val_acc: 0.9810\n"
          ],
          "name": "stdout"
        },
        {
          "output_type": "execute_result",
          "data": {
            "text/plain": [
              "<keras.callbacks.History at 0x7f43f7d12f28>"
            ]
          },
          "metadata": {
            "tags": []
          },
          "execution_count": 9
        }
      ]
    },
    {
      "metadata": {
        "id": "lkvH0p8gTZqS",
        "colab_type": "code",
        "outputId": "d639e8b2-4b01-4265-d067-a03d0c1978f1",
        "colab": {
          "base_uri": "https://localhost:8080/",
          "height": 337
        }
      },
      "cell_type": "code",
      "source": [
        "#visualizing results\n",
        "value = int((np.random.rand(1)[0])*cutoff)\n",
        "print ('Sample #', value)\n",
        "\n",
        "plt.imshow(train_x[value].reshape(28,28))\n",
        "\n",
        "predicted = np.argmax(model.predict(train_x[value].reshape((1,28,28,1)))[0])\n",
        "print('Model predicted', predicted)\n",
        "\n",
        "actual = train_y[value][0]\n",
        "print('Actual value', actual)\n",
        "\n",
        "if (predicted == actual):\n",
        "  print('Correct prediction!')\n",
        "else:\n",
        "  print('Wrong prediciton.')"
      ],
      "execution_count": 10,
      "outputs": [
        {
          "output_type": "stream",
          "text": [
            "Sample # 21236\n",
            "Model predicted 1\n",
            "Actual value 1\n",
            "Correct prediction!\n"
          ],
          "name": "stdout"
        },
        {
          "output_type": "display_data",
          "data": {
            "image/png": "[encoded data removed]",
            "text/plain": [
              "<Figure size 432x288 with 1 Axes>"
            ]
          },
          "metadata": {
            "tags": []
          }
        }
      ]
    }
  ]
}